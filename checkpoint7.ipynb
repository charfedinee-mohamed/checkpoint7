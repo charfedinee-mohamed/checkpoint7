{
 "cells": [
  {
   "cell_type": "code",
   "execution_count": 21,
   "source": [
    "import pandas as pd\r\n",
    "import numpy as np \r\n",
    "import seaborn as sns\r\n",
    "import matplotlib.pyplot as plt\r\n",
    "from sklearn.model_selection import train_test_split\r\n",
    "from sklearn import tree   \r\n",
    "from sklearn.tree import DecisionTreeClassifier\r\n",
    "from sklearn.model_selection import train_test_split\r\n",
    "from sklearn import tree   \r\n",
    "from sklearn.tree import DecisionTreeClassifier\r\n",
    "from sklearn.metrics import accuracy_score\r\n",
    "from sklearn.ensemble import RandomForestClassifier\r\n",
    "a=pd.read_csv('titanic-passengers.csv',sep=\";\")\r\n",
    "a=a.set_index(\"PassengerId\")\r\n",
    "a=a.sort_index()\r\n",
    "a['Age'].fillna(a['Age'].mean(),inplace=True)\r\n",
    "a.replace({'Sex':{'male': 1,'female':0}},inplace=True)\r\n",
    "a['Cabin']=a.Cabin.fillna('G6')\r\n",
    "a.replace({'Survived':{'Yes': 1,'No':0}},inplace=True)\r\n",
    "x=a.drop([\"Survived\", \"Name\", \"Cabin\", \"Ticket\", \"Embarked\"], axis=1)\r\n",
    "y=a[\"Survived\"]\r\n",
    "x_train, x_test, y_train, y_test = train_test_split(x,y, test_size=0.20,random_state=10)\r\n",
    "b=tree.DecisionTreeClassifier()  \r\n",
    "b.fit(x_train, y_train)   #fitting our model\r\n",
    "y_pred=b.predict(x_test)   # evaluating our model\r\n",
    "print(\"score:{}\".format(accuracy_score(y_test,y_pred)))\r\n",
    "plot=DecisionTreeClassifier()\r\n",
    "plot.fit(x_train,y_train)\r\n",
    "dot=tree.export_graphviz(plot,out_file=None)\r\n",
    "graph=graphviz.Source(dot)\r\n",
    "graph.render('DATA')\r\n",
    "graph\r\n",
    "tree=tree.DecisionTreeClassifier()\r\n",
    "tree.fit(x_train,y_train)\r\n",
    "y_pred=tree.predict(x_test)\r\n",
    "print(\"new_score:{}\".format(accuracy_score(y_test,y_pred)))\r\n",
    "col=RandomForestClassifier(n_estimators=100)\r\n",
    "col.fit(x_train,y_train)\r\n",
    "y_pred=col.predict(x_test)\r\n",
    "print(\"Newest Accuracy\", accuracy_score(y_test,y_pred))"
   ],
   "outputs": [
    {
     "output_type": "stream",
     "name": "stdout",
     "text": [
      "score:0.7821229050279329\n",
      "new_score:0.7821229050279329\n",
      "Newest Accuracy 0.8156424581005587\n"
     ]
    }
   ],
   "metadata": {}
  },
  {
   "cell_type": "markdown",
   "source": [],
   "metadata": {}
  }
 ],
 "metadata": {
  "orig_nbformat": 4,
  "language_info": {
   "name": "python",
   "version": "3.8.8",
   "mimetype": "text/x-python",
   "codemirror_mode": {
    "name": "ipython",
    "version": 3
   },
   "pygments_lexer": "ipython3",
   "nbconvert_exporter": "python",
   "file_extension": ".py"
  },
  "kernelspec": {
   "name": "python3",
   "display_name": "Python 3.8.8 64-bit ('base': conda)"
  },
  "interpreter": {
   "hash": "b2d2dc41cbfaf67ac4a91a427b68830b69dde48fe3ce74dedd3ecbeef6226b1d"
  }
 },
 "nbformat": 4,
 "nbformat_minor": 2
}